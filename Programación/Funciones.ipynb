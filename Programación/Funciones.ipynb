{
 "cells": [
  {
   "cell_type": "code",
   "execution_count": null,
   "id": "f40dfc3f",
   "metadata": {},
   "outputs": [],
   "source": []
  },
  {
   "cell_type": "markdown",
   "id": "464b8cab",
   "metadata": {},
   "source": [
    "# Funciones\n",
    "```python\n",
    "def nobre_de_la_funcion(variables,de,entrada):\n",
    "    Tareas\n",
    "    return variables_de_salida\n",
    "```"
   ]
  },
  {
   "cell_type": "code",
   "execution_count": 8,
   "id": "680204e7",
   "metadata": {},
   "outputs": [],
   "source": [
    "def sumayresta(x,y):\n",
    "    print(x+y)\n",
    "    print(x-y)"
   ]
  },
  {
   "cell_type": "code",
   "execution_count": 9,
   "id": "8d691cd7",
   "metadata": {},
   "outputs": [
    {
     "name": "stdout",
     "output_type": "stream",
     "text": [
      "3\n",
      "-1\n"
     ]
    }
   ],
   "source": [
    "sumayresta(1,2)"
   ]
  },
  {
   "cell_type": "code",
   "execution_count": 10,
   "id": "d1cbf9ee",
   "metadata": {},
   "outputs": [
    {
     "name": "stdout",
     "output_type": "stream",
     "text": [
      "3\n",
      "-1\n"
     ]
    }
   ],
   "source": [
    "z = sumayresta(1,2)"
   ]
  },
  {
   "cell_type": "code",
   "execution_count": 13,
   "id": "91d2571c",
   "metadata": {},
   "outputs": [
    {
     "data": {
      "text/plain": [
       "NoneType"
      ]
     },
     "execution_count": 13,
     "metadata": {},
     "output_type": "execute_result"
    }
   ],
   "source": [
    "type(z)"
   ]
  },
  {
   "cell_type": "code",
   "execution_count": 14,
   "id": "76b14f05",
   "metadata": {},
   "outputs": [],
   "source": [
    "def sumayresta(x,y):\n",
    "    s = x+y\n",
    "    print('El resultado de la suma entre {0} y {1} es: {2}'.format(x,y,s))\n",
    "    print(x-y)\n",
    "    return s"
   ]
  },
  {
   "cell_type": "code",
   "execution_count": 18,
   "id": "8bc73d92",
   "metadata": {
    "scrolled": true
   },
   "outputs": [
    {
     "name": "stdout",
     "output_type": "stream",
     "text": [
      "El resultado de la suma entre 1 y 2 es: 3\n",
      "-1\n"
     ]
    },
    {
     "data": {
      "text/plain": [
       "3"
      ]
     },
     "execution_count": 18,
     "metadata": {},
     "output_type": "execute_result"
    }
   ],
   "source": [
    "sumayresta(1,2)"
   ]
  },
  {
   "cell_type": "code",
   "execution_count": 19,
   "id": "4b10bdc2",
   "metadata": {},
   "outputs": [
    {
     "name": "stdout",
     "output_type": "stream",
     "text": [
      "El resultado de la suma entre 1 y 2 es: 3\n",
      "-1\n"
     ]
    }
   ],
   "source": [
    "z = sumayresta(1,2)"
   ]
  },
  {
   "cell_type": "code",
   "execution_count": 20,
   "id": "618d5625",
   "metadata": {},
   "outputs": [
    {
     "data": {
      "text/plain": [
       "3"
      ]
     },
     "execution_count": 20,
     "metadata": {},
     "output_type": "execute_result"
    }
   ],
   "source": [
    "z"
   ]
  },
  {
   "cell_type": "code",
   "execution_count": 21,
   "id": "d0c58381",
   "metadata": {},
   "outputs": [],
   "source": [
    "def sumayresta(x,y):\n",
    "    s = x+y\n",
    "    r = x-y\n",
    "    print('El resultado de la suma entre {0} y {1} es: {2}'.format(x,y,s))\n",
    "    print('El resultado de la resta entre {0} y {1} es: {2}'.format(x,y,r))\n",
    "    return [s,r]"
   ]
  },
  {
   "cell_type": "code",
   "execution_count": 22,
   "id": "eacdaec2",
   "metadata": {},
   "outputs": [
    {
     "name": "stdout",
     "output_type": "stream",
     "text": [
      "El resultado de la suma entre 1 y 2 es: 3\n",
      "El resultado de la resta entre 1 y 2 es: -1\n"
     ]
    },
    {
     "data": {
      "text/plain": [
       "[3, -1]"
      ]
     },
     "execution_count": 22,
     "metadata": {},
     "output_type": "execute_result"
    }
   ],
   "source": [
    "sumayresta(1,2)"
   ]
  },
  {
   "cell_type": "code",
   "execution_count": 23,
   "id": "c3064789",
   "metadata": {},
   "outputs": [
    {
     "name": "stdout",
     "output_type": "stream",
     "text": [
      "El resultado de la suma entre 1 y 2 es: 3\n",
      "El resultado de la resta entre 1 y 2 es: -1\n"
     ]
    },
    {
     "data": {
      "text/plain": [
       "[3, -1]"
      ]
     },
     "execution_count": 23,
     "metadata": {},
     "output_type": "execute_result"
    }
   ],
   "source": [
    "z = sumayresta(1,2)\n",
    "z"
   ]
  },
  {
   "cell_type": "code",
   "execution_count": 24,
   "id": "47fb68ae",
   "metadata": {},
   "outputs": [],
   "source": [
    "def saludo():\n",
    "    print('Hola buenas tardes')"
   ]
  },
  {
   "cell_type": "code",
   "execution_count": 25,
   "id": "1d5c4109",
   "metadata": {},
   "outputs": [
    {
     "name": "stdout",
     "output_type": "stream",
     "text": [
      "Hola buenas tardes\n"
     ]
    }
   ],
   "source": [
    "saludo()"
   ]
  },
  {
   "cell_type": "code",
   "execution_count": 26,
   "id": "5d4bba70",
   "metadata": {},
   "outputs": [],
   "source": [
    "def saludo():\n",
    "    print('Hola buenas tardes')\n",
    "    return 'HOLA'"
   ]
  },
  {
   "cell_type": "code",
   "execution_count": 27,
   "id": "9c3a5aaf",
   "metadata": {},
   "outputs": [
    {
     "name": "stdout",
     "output_type": "stream",
     "text": [
      "Hola buenas tardes\n"
     ]
    },
    {
     "data": {
      "text/plain": [
       "'HOLA'"
      ]
     },
     "execution_count": 27,
     "metadata": {},
     "output_type": "execute_result"
    }
   ],
   "source": [
    "saludo()"
   ]
  },
  {
   "cell_type": "code",
   "execution_count": 28,
   "id": "24921daf",
   "metadata": {},
   "outputs": [],
   "source": [
    "def multiplos(x):\n",
    "    a1 = x*1\n",
    "    a2 = x*2\n",
    "    a3 = x*3\n",
    "    return [a1,a2,a3]"
   ]
  },
  {
   "cell_type": "code",
   "execution_count": 29,
   "id": "fd28bee7",
   "metadata": {},
   "outputs": [
    {
     "data": {
      "text/plain": [
       "[5, 10, 15]"
      ]
     },
     "execution_count": 29,
     "metadata": {},
     "output_type": "execute_result"
    }
   ],
   "source": [
    "multiplos(5)"
   ]
  },
  {
   "cell_type": "code",
   "execution_count": 30,
   "id": "4d42cd06",
   "metadata": {},
   "outputs": [],
   "source": [
    "def multiplos2(x):\n",
    "    for i in range(11):\n",
    "        print(x*i)"
   ]
  },
  {
   "cell_type": "code",
   "execution_count": 33,
   "id": "3a48d3e0",
   "metadata": {},
   "outputs": [
    {
     "name": "stdout",
     "output_type": "stream",
     "text": [
      "0\n",
      "8598\n",
      "17196\n",
      "25794\n",
      "34392\n",
      "42990\n",
      "51588\n",
      "60186\n",
      "68784\n",
      "77382\n",
      "85980\n"
     ]
    }
   ],
   "source": [
    "multiplos2(8598)"
   ]
  },
  {
   "cell_type": "code",
   "execution_count": 34,
   "id": "a2e550a5",
   "metadata": {},
   "outputs": [],
   "source": [
    "def multiplos2(x):\n",
    "    i=0\n",
    "    while i<11:\n",
    "        print(x*i)\n",
    "        i+=1"
   ]
  },
  {
   "cell_type": "code",
   "execution_count": 35,
   "id": "8cf31d49",
   "metadata": {},
   "outputs": [
    {
     "name": "stdout",
     "output_type": "stream",
     "text": [
      "0\n",
      "3\n",
      "6\n",
      "9\n",
      "12\n",
      "15\n",
      "18\n",
      "21\n",
      "24\n",
      "27\n",
      "30\n"
     ]
    }
   ],
   "source": [
    "multiplos2(3)"
   ]
  },
  {
   "cell_type": "markdown",
   "id": "c265da1d",
   "metadata": {},
   "source": [
    "```python\n",
    "def multiplos(a,b):\n",
    "    'hacer la tabla del a hasta el b'\n",
    "```"
   ]
  },
  {
   "cell_type": "code",
   "execution_count": 46,
   "id": "e81588cb",
   "metadata": {},
   "outputs": [],
   "source": [
    "def multiplos3(a,b):\n",
    "    i=0\n",
    "    while i*a<=b:\n",
    "        print(a*i)\n",
    "        i+=1"
   ]
  },
  {
   "cell_type": "code",
   "execution_count": 47,
   "id": "706ebb1a",
   "metadata": {},
   "outputs": [
    {
     "name": "stdout",
     "output_type": "stream",
     "text": [
      "0\n",
      "2\n",
      "4\n",
      "6\n",
      "8\n",
      "10\n"
     ]
    }
   ],
   "source": [
    "multiplos3(2,10)"
   ]
  },
  {
   "cell_type": "code",
   "execution_count": 50,
   "id": "c70173e7",
   "metadata": {},
   "outputs": [],
   "source": [
    "?int"
   ]
  },
  {
   "cell_type": "code",
   "execution_count": 52,
   "id": "9d5bc3b8",
   "metadata": {},
   "outputs": [],
   "source": [
    "def multiplos3(a,b):\n",
    "    '''Es una función que calcula la tabla del número a hasta el número b.\n",
    "    a debe ser un entero.\n",
    "    b debe ser un entero mayor que a.'''\n",
    "    if (type(a)==int and type(b)==int):\n",
    "        if a>b:\n",
    "            print('a debe ser menor que b')\n",
    "        else:\n",
    "            i=0\n",
    "            while i*a<=b:\n",
    "                print(a*i)\n",
    "                i+=1\n",
    "    else:\n",
    "        print('a y b deben ser números enteros')"
   ]
  },
  {
   "cell_type": "code",
   "execution_count": 58,
   "id": "1884ccb9",
   "metadata": {
    "scrolled": true
   },
   "outputs": [
    {
     "name": "stdout",
     "output_type": "stream",
     "text": [
      "a debe ser menor que b\n"
     ]
    }
   ],
   "source": [
    "multiplos3(8,1)"
   ]
  },
  {
   "cell_type": "code",
   "execution_count": 59,
   "id": "146d4f32",
   "metadata": {},
   "outputs": [
    {
     "name": "stdout",
     "output_type": "stream",
     "text": [
      "a y b deben ser números enteros\n"
     ]
    }
   ],
   "source": [
    "multiplos3(8.1,4)"
   ]
  },
  {
   "cell_type": "code",
   "execution_count": 60,
   "id": "f539ddbc",
   "metadata": {},
   "outputs": [
    {
     "name": "stdout",
     "output_type": "stream",
     "text": [
      "a y b deben ser números enteros\n"
     ]
    }
   ],
   "source": [
    "multiplos3(8,'4')"
   ]
  },
  {
   "cell_type": "code",
   "execution_count": 61,
   "id": "38ee0c3e",
   "metadata": {},
   "outputs": [],
   "source": [
    "x=1"
   ]
  },
  {
   "cell_type": "code",
   "execution_count": 62,
   "id": "e9faacb4",
   "metadata": {},
   "outputs": [],
   "source": [
    "def func(x):\n",
    "    x=x+1\n",
    "    return x"
   ]
  },
  {
   "cell_type": "code",
   "execution_count": 63,
   "id": "2bfb66c9",
   "metadata": {},
   "outputs": [
    {
     "data": {
      "text/plain": [
       "2"
      ]
     },
     "execution_count": 63,
     "metadata": {},
     "output_type": "execute_result"
    }
   ],
   "source": [
    "func(1)"
   ]
  },
  {
   "cell_type": "code",
   "execution_count": 64,
   "id": "ce88cfaa",
   "metadata": {},
   "outputs": [
    {
     "data": {
      "text/plain": [
       "1"
      ]
     },
     "execution_count": 64,
     "metadata": {},
     "output_type": "execute_result"
    }
   ],
   "source": [
    "x"
   ]
  },
  {
   "cell_type": "code",
   "execution_count": null,
   "id": "748db1b7",
   "metadata": {},
   "outputs": [],
   "source": []
  }
 ],
 "metadata": {
  "kernelspec": {
   "display_name": "Python 3 (ipykernel)",
   "language": "python",
   "name": "python3"
  },
  "language_info": {
   "codemirror_mode": {
    "name": "ipython",
    "version": 3
   },
   "file_extension": ".py",
   "mimetype": "text/x-python",
   "name": "python",
   "nbconvert_exporter": "python",
   "pygments_lexer": "ipython3",
   "version": "3.9.7"
  }
 },
 "nbformat": 4,
 "nbformat_minor": 5
}
